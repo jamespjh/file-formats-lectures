{
 "cells": [
  {
   "cell_type": "markdown",
   "metadata": {},
   "source": [
    "# Domain specific languages"
   ]
  },
  {
   "cell_type": "markdown",
   "metadata": {},
   "source": [
    "## Lex and Yacc"
   ]
  },
  {
   "cell_type": "markdown",
   "metadata": {},
   "source": [
    "Let's go back to our nice looks-like LaTeX file format:"
   ]
  },
  {
   "cell_type": "code",
   "execution_count": 1,
   "metadata": {},
   "outputs": [],
   "source": [
    "%%writefile system.py\n",
    "\n",
    "class Element:\n",
    "    def __init__(self, symbol):\n",
    "        self.symbol = symbol\n",
    "        \n",
    "    def __str__(self):\n",
    "        return str(self.symbol)\n",
    "        \n",
    "class Molecule:\n",
    "    def __init__(self):\n",
    "        self.elements= {} # Map from element to number of that element in the molecule\n",
    "        \n",
    "    def add_element(self, element, number):\n",
    "        self.elements[element] = number\n",
    "    \n",
    "    @staticmethod\n",
    "    def as_subscript(number):\n",
    "        if number==1:\n",
    "            return \"\"\n",
    "        \n",
    "        if number<10:\n",
    "            return \"_\"+str(number)\n",
    "        else:\n",
    "            return \"_{\"+str(number)+\"}\"\n",
    "    \n",
    "    def __str__(self):\n",
    "        return ''.join(\n",
    "            [str(element)+Molecule.as_subscript(self.elements[element])\n",
    "             for element in self.elements])  \n",
    "\n",
    "class Side:\n",
    "    def __init__(self):\n",
    "        self.molecules={}\n",
    "    def add(self, reactant, stoichiometry):\n",
    "        self.molecules[reactant]=stoichiometry\n",
    "        \n",
    "    @staticmethod\n",
    "    def print_if_not_one(number):\n",
    "        if number==1:\n",
    "            return ''\n",
    "        else: return str(number)\n",
    "    \n",
    "    def __str__(self):\n",
    "        return \" + \".join(\n",
    "            [Side.print_if_not_one(self.molecules[molecule]) + \n",
    "             str(molecule) for molecule in self.molecules])\n",
    "    \n",
    "class Reaction:\n",
    "    def __init__(self):\n",
    "        self.reactants = Side() \n",
    "        self.products = Side()\n",
    "        \n",
    "    def __str__(self):\n",
    "        return (str(self.reactants) + \n",
    "                  \" \\\\rightarrow \" + \n",
    "                  str(self.products))\n",
    "\n",
    "class System:       \n",
    "    def __init__(self):\n",
    "        self.reactions=[]\n",
    "\n",
    "    def add_reaction(self, reaction):\n",
    "        self.reactions.append(reaction)\n",
    "        \n",
    "    def __str__(self):\n",
    "        return \"\\\\\\\\ \\n\".join(map(str,self.reactions))"
   ]
  },
  {
   "cell_type": "code",
   "execution_count": 2,
   "metadata": {},
   "outputs": [
    {
     "name": "stdout",
     "output_type": "stream",
     "text": [
      "C_6H_{12}O_6 + 6O_2 \\rightarrow 6CO_2 + 6H_2O\\\\ \n",
      "2H_2 + O_2 \\rightarrow 2H_2O\n"
     ]
    }
   ],
   "source": [
    "from system import *\n",
    "s2=System()\n",
    "\n",
    "c=Element(\"C\")\n",
    "o=Element(\"O\")\n",
    "h=Element(\"H\")\n",
    "\n",
    "co2 = Molecule()\n",
    "co2.add_element(c,1)\n",
    "co2.add_element(o,2)\n",
    "\n",
    "h2o = Molecule()\n",
    "h2o.add_element(h,2)\n",
    "h2o.add_element(o,1)\n",
    "\n",
    "o2 = Molecule()\n",
    "o2.add_element(o,2)\n",
    "\n",
    "h2 = Molecule()\n",
    "h2.add_element(h,2)\n",
    "\n",
    "glucose = Molecule()\n",
    "glucose.add_element(c,6)\n",
    "glucose.add_element(h,12)\n",
    "glucose.add_element(o,6)\n",
    "\n",
    "combustion_glucose=Reaction()\n",
    "combustion_glucose.reactants.add(glucose,  1)\n",
    "combustion_glucose.reactants.add(o2, 6)\n",
    "combustion_glucose.products.add(co2, 6)\n",
    "combustion_glucose.products.add(h2o, 6)\n",
    "s2.add_reaction(combustion_glucose)\n",
    "\n",
    "\n",
    "combustion_hydrogen = Reaction()\n",
    "combustion_hydrogen.reactants.add(h2,2)\n",
    "combustion_hydrogen.reactants.add(o2,1)\n",
    "combustion_hydrogen.products.add(h2o,2)\n",
    "s2.add_reaction(combustion_hydrogen)\n",
    "\n",
    "print(s2)"
   ]
  },
  {
   "cell_type": "code",
   "execution_count": 3,
   "metadata": {},
   "outputs": [
    {
     "data": {
      "text/latex": [
       "$$C_6H_{12}O_6 + 6O_2 \\rightarrow 6CO_2 + 6H_2O\\\\ \n",
       "2H_2 + O_2 \\rightarrow 2H_2O$$"
      ],
      "text/plain": [
       "<IPython.core.display.Math object>"
      ]
     },
     "metadata": {},
     "output_type": "display_data"
    }
   ],
   "source": [
    "from IPython.display import display, Math\n",
    "display(Math(str(s2)))"
   ]
  },
  {
   "cell_type": "markdown",
   "metadata": {},
   "source": [
    "How might we write a parser for this? Clearly we'll encounter the problems we previously solved in ensuring each molecule is the\n",
    "and atom only gets one object instance, but we solved this by using an appropriate primary key. (The above implementation is designed to make this easy, learning from the previous lecture.)\n",
    "\n",
    "But we'll also run into a bunch of problems which are basically string parsing : noting, for example, that `_2` and `_{12}` make a number of atoms in a molecule, or that `+` joins molecules.\n",
    "\n",
    "This will be very hard to do with straightforward python string processing."
   ]
  },
  {
   "cell_type": "code",
   "execution_count": 4,
   "metadata": {},
   "outputs": [],
   "source": [
    "import ply"
   ]
  },
  {
   "cell_type": "markdown",
   "metadata": {},
   "source": [
    "Instead, we will use a tool called \"Lexx and Yacc\", which allows us to define the **grammar** of our file format."
   ]
  },
  {
   "cell_type": "markdown",
   "metadata": {},
   "source": [
    "The theory of \"context free grammars\" is rich and deep, and we will just scratch the surface here."
   ]
  },
  {
   "cell_type": "markdown",
   "metadata": {},
   "source": [
    "## Tokenising with Lex"
   ]
  },
  {
   "cell_type": "markdown",
   "metadata": {},
   "source": [
    "First, we need to turn our file into a \"token stream\", using regular expressions to match the kinds of symbol in our source:"
   ]
  },
  {
   "cell_type": "code",
   "execution_count": 5,
   "metadata": {},
   "outputs": [
    {
     "name": "stdout",
     "output_type": "stream",
     "text": [
      "Overwriting lexreactions.py\n"
     ]
    }
   ],
   "source": [
    "%%writefile lexreactions.py\n",
    "\n",
    "from ply import lex\n",
    "\n",
    "tokens = (\n",
    "'ELEMENT','NUMBER','SUBSCRIPT','LBRACE','RBRACE',\n",
    "'PLUS','ARROW','NEWLINE','TEXNEWLINE'\n",
    ")\n",
    "\n",
    "# Tokens\n",
    "\n",
    "t_PLUS    = r'\\+'\n",
    "t_SUBSCRIPT = r'_'\n",
    "t_LBRACE  = r'\\{'\n",
    "t_RBRACE  = r'\\}'\n",
    "t_TEXNEWLINE = r'\\\\\\\\'\n",
    "t_ARROW = r'\\\\rightarrow'\n",
    "t_ELEMENT    = r'[A-Z][a-z]*?'\n",
    "\n",
    "def t_NUMBER(t):\n",
    "    r'\\d+'\n",
    "    t.value = int(t.value)\n",
    "    return t\n",
    "\n",
    "t_ignore  = ' '\n",
    "\n",
    "def t_NEWLINE(t):\n",
    "    r'\\n+'\n",
    "    return t\n",
    "\n",
    "def t_error(t):\n",
    "    print(\"Illegal character '%s'\" % t.value[0])\n",
    "    t.lexer.skip(1)\n",
    "\n",
    "# Build the lexer\n",
    "lexer = lex.lex()"
   ]
  },
  {
   "cell_type": "code",
   "execution_count": 6,
   "metadata": {},
   "outputs": [],
   "source": [
    "from lexreactions import lexer"
   ]
  },
  {
   "cell_type": "code",
   "execution_count": 7,
   "metadata": {},
   "outputs": [],
   "source": [
    "tokens=[]\n",
    "lexer.input(str(s2))\n",
    "while True:\n",
    "    tok = lexer.token()\n",
    "    if not tok: \n",
    "        break      # No more input\n",
    "    tokens.append(tok)"
   ]
  },
  {
   "cell_type": "code",
   "execution_count": 8,
   "metadata": {},
   "outputs": [
    {
     "data": {
      "text/plain": [
       "[LexToken(ELEMENT,'C',1,0),\n",
       " LexToken(SUBSCRIPT,'_',1,1),\n",
       " LexToken(NUMBER,6,1,2),\n",
       " LexToken(ELEMENT,'H',1,3),\n",
       " LexToken(SUBSCRIPT,'_',1,4),\n",
       " LexToken(LBRACE,'{',1,5),\n",
       " LexToken(NUMBER,12,1,6),\n",
       " LexToken(RBRACE,'}',1,8),\n",
       " LexToken(ELEMENT,'O',1,9),\n",
       " LexToken(SUBSCRIPT,'_',1,10),\n",
       " LexToken(NUMBER,6,1,11),\n",
       " LexToken(PLUS,'+',1,13),\n",
       " LexToken(NUMBER,6,1,15),\n",
       " LexToken(ELEMENT,'O',1,16),\n",
       " LexToken(SUBSCRIPT,'_',1,17),\n",
       " LexToken(NUMBER,2,1,18),\n",
       " LexToken(ARROW,'\\\\rightarrow',1,20),\n",
       " LexToken(NUMBER,6,1,32),\n",
       " LexToken(ELEMENT,'C',1,33),\n",
       " LexToken(ELEMENT,'O',1,34),\n",
       " LexToken(SUBSCRIPT,'_',1,35),\n",
       " LexToken(NUMBER,2,1,36),\n",
       " LexToken(PLUS,'+',1,38),\n",
       " LexToken(NUMBER,6,1,40),\n",
       " LexToken(ELEMENT,'H',1,41),\n",
       " LexToken(SUBSCRIPT,'_',1,42),\n",
       " LexToken(NUMBER,2,1,43),\n",
       " LexToken(ELEMENT,'O',1,44),\n",
       " LexToken(TEXNEWLINE,'\\\\\\\\',1,45),\n",
       " LexToken(NEWLINE,'\\n',1,48),\n",
       " LexToken(NUMBER,2,1,49),\n",
       " LexToken(ELEMENT,'H',1,50),\n",
       " LexToken(SUBSCRIPT,'_',1,51),\n",
       " LexToken(NUMBER,2,1,52),\n",
       " LexToken(PLUS,'+',1,54),\n",
       " LexToken(ELEMENT,'O',1,56),\n",
       " LexToken(SUBSCRIPT,'_',1,57),\n",
       " LexToken(NUMBER,2,1,58),\n",
       " LexToken(ARROW,'\\\\rightarrow',1,60),\n",
       " LexToken(NUMBER,2,1,72),\n",
       " LexToken(ELEMENT,'H',1,73),\n",
       " LexToken(SUBSCRIPT,'_',1,74),\n",
       " LexToken(NUMBER,2,1,75),\n",
       " LexToken(ELEMENT,'O',1,76)]"
      ]
     },
     "execution_count": 8,
     "metadata": {},
     "output_type": "execute_result"
    }
   ],
   "source": [
    "tokens"
   ]
  },
  {
   "cell_type": "markdown",
   "metadata": {},
   "source": [
    "## Writing a grammar"
   ]
  },
  {
   "cell_type": "markdown",
   "metadata": {},
   "source": [
    "So, how do we express our algebra for chemical reactions as a grammar?"
   ]
  },
  {
   "cell_type": "markdown",
   "metadata": {},
   "source": [
    "We write a series of production rules, expressing how a system is made up of equations, an equation is made up of molecules etc:"
   ]
  },
  {
   "cell_type": "markdown",
   "metadata": {},
   "source": [
    "```\n",
    "system : equation\n",
    "system : system TEXNEWLINE NEWLINE equation\n",
    "equation : side ARROW side\n",
    "side : molecules\n",
    "molecules : molecule\n",
    "molecules : NUMBER molecule\n",
    "side : side PLUS molecules\n",
    "molecule : countedelement\n",
    "countedelement : ELEMENT\n",
    "countedelement : ELEMENT atomcount\n",
    "molecule : molecule countedelement\n",
    "atomcount : SUBSCRIPT NUMBER\n",
    "atomcount : SUBSCRIPT LBRACE NUMBER RBRACE\n",
    "```"
   ]
  },
  {
   "cell_type": "markdown",
   "metadata": {},
   "source": [
    "Note how we right that a system is made of more than one equation:\n",
    "\n",
    "```\n",
    "system : equation # A system could be one equation\n",
    "system : system NEWLINE equation # Or it could be a system then an equation\n",
    "```\n",
    "\n",
    "... which implies, recursively, that a system could also be:\n",
    "\n",
    "```\n",
    "system: equation NEWLINE equation NEWLINE equation ...\n",
    "```"
   ]
  },
  {
   "cell_type": "markdown",
   "metadata": {},
   "source": [
    "## Parsing with Yacc"
   ]
  },
  {
   "cell_type": "markdown",
   "metadata": {},
   "source": [
    "A parser defined with Yacc builds up the final object, by breaking down the\n",
    "file according to the rules of the grammar, and then building up objects\n",
    "as the individual tokens coalesce into the full grammar.\n",
    "\n",
    "Here, we will for clarity not attempt to solve the problem of having multiple molecule instances for the same molecule - the normalisation problem solved last lecture."
   ]
  },
  {
   "cell_type": "code",
   "execution_count": 9,
   "metadata": {},
   "outputs": [
    {
     "name": "stdout",
     "output_type": "stream",
     "text": [
      "Overwriting parsereactions.py\n"
     ]
    }
   ],
   "source": [
    "%%writefile parsereactions.py\n",
    "\n",
    "# Yacc example\n",
    "from system import *\n",
    "\n",
    "import ply.yacc as yacc\n",
    "\n",
    "# Get the token map from the lexer.  This is required.\n",
    "from lexreactions import tokens\n",
    "\n",
    "def p_expression_system(p):\n",
    "    'system : equation'\n",
    "    p[0]=System()\n",
    "    p[0].add_reaction(p[1])\n",
    "\n",
    "def p_expression_combine_system(p):\n",
    "    'system : system TEXNEWLINE NEWLINE equation'\n",
    "    p[0]=p[1]\n",
    "    p[0].add_reaction(p[4])\n",
    "\n",
    "def p_equation(p):\n",
    "    'equation : side ARROW side'\n",
    "    p[0] = Reaction()\n",
    "    p[0].reactants = p[1]\n",
    "    p[0].products = p[3]\n",
    "\n",
    "def p_side(p):\n",
    "    'side : molecules'\n",
    "    p[0] = Side()\n",
    "    p[0].add(p[1][0],p[1][1])\n",
    "\n",
    "def p_molecules(p):\n",
    "    'molecules : molecule'\n",
    "    p[0]=(p[1],1)\n",
    "\n",
    "def p_stoichiometry(p):\n",
    "    'molecules : NUMBER molecule'\n",
    "    p[0]=(p[2],p[1])\n",
    "\n",
    "def p_plus(p):\n",
    "    'side : side PLUS molecules'\n",
    "    p[0]=p[1]\n",
    "    p[0].add(p[3][0],p[3][1])\n",
    "\n",
    "def p_molecule(p):\n",
    "    'molecule : countedelement'\n",
    "    p[0]= Molecule()\n",
    "    p[0].add_element(p[1][0],p[1][1])\n",
    "\n",
    "def p_countedelement(p):\n",
    "    'countedelement : ELEMENT'\n",
    "    p[0]=(p[1], 1)\n",
    "    \n",
    "def p_ncountedelement(p):\n",
    "    'countedelement : ELEMENT atomcount'\n",
    "    p[0]=(p[1], p[2])\n",
    "\n",
    "def p_multi_element(p):\n",
    "    'molecule : molecule countedelement'\n",
    "    p[0]=p[1]\n",
    "    p[0].add_element(p[2][0],p[2][1])\n",
    "\n",
    "def p_multi_atoms(p):\n",
    "    'atomcount : SUBSCRIPT NUMBER'\n",
    "    p[0]=int(p[2])\n",
    "\n",
    "def p_many_atoms(p):\n",
    "    'atomcount : SUBSCRIPT LBRACE NUMBER RBRACE'\n",
    "    p[0]=int(p[3])\n",
    "\n",
    "# Error rule for syntax errors\n",
    "def p_error(p):\n",
    "    print(\"Syntax error in input!\")   \n",
    "\n",
    "# Build the parser\n",
    "parser = yacc.yacc()"
   ]
  },
  {
   "cell_type": "code",
   "execution_count": 10,
   "metadata": {},
   "outputs": [
    {
     "name": "stderr",
     "output_type": "stream",
     "text": [
      "Generating LALR tables\n"
     ]
    }
   ],
   "source": [
    "from parsereactions import parser\n",
    "\n",
    "roundtrip_system=parser.parse(str(s2))"
   ]
  },
  {
   "cell_type": "code",
   "execution_count": 11,
   "metadata": {},
   "outputs": [],
   "source": [
    "#!cat parser.out"
   ]
  },
  {
   "cell_type": "code",
   "execution_count": 12,
   "metadata": {},
   "outputs": [
    {
     "data": {
      "text/latex": [
       "$$C_6H_{12}O_6 + 6O_2 \\rightarrow 6CO_2 + 6H_2O\\\\ \n",
       "2H_2 + O_2 \\rightarrow 2H_2O$$"
      ],
      "text/plain": [
       "<IPython.core.display.Math object>"
      ]
     },
     "metadata": {},
     "output_type": "display_data"
    }
   ],
   "source": [
    "display(Math(str(roundtrip_system)))"
   ]
  },
  {
   "cell_type": "code",
   "execution_count": 20,
   "metadata": {},
   "outputs": [],
   "source": [
    "with open('system.tex','w') as texfile:\n",
    "    texfile.write(str(roundtrip_system))"
   ]
  },
  {
   "cell_type": "markdown",
   "metadata": {},
   "source": [
    "## Internal DSLs"
   ]
  },
  {
   "cell_type": "markdown",
   "metadata": {},
   "source": [
    "In doing the above, we have defined what is called an \"external DSL\":\n",
    "    our code is in Python, but the file format is a language with a grammar\n",
    "    of its own.\n",
    "    \n",
    "However, we can use the language itself to define something almost\n",
    "as fluent, without having to write our own grammar,\n",
    "by using operator overloading and metaprogramming tricks:"
   ]
  },
  {
   "cell_type": "code",
   "execution_count": 13,
   "metadata": {},
   "outputs": [
    {
     "name": "stdout",
     "output_type": "stream",
     "text": [
      "Writing reactionsdsl.py\n"
     ]
    }
   ],
   "source": [
    "%%writefile reactionsdsl.py\n",
    "\n",
    "\n",
    "class Element:\n",
    "    def __init__(self, symbol):\n",
    "        self.symbol = symbol\n",
    "        \n",
    "    def __str__(self):\n",
    "        return str(self.symbol)\n",
    "    \n",
    "    def __truediv__(self, number):\n",
    "        res = Molecule()\n",
    "        res.add_element(self, number)\n",
    "        return res\n",
    "        \n",
    "class Molecule:\n",
    "    def __init__(self):\n",
    "        self.elements= {} # Map from element to number of that element in the molecule\n",
    "        \n",
    "    def add_element(self, element, number):\n",
    "        self.elements[element] = number\n",
    "    \n",
    "    @staticmethod\n",
    "    def as_subscript(number):\n",
    "        if number==1:\n",
    "            return \"\"\n",
    "        \n",
    "        if number<10:\n",
    "            return \"_\"+str(number)\n",
    "        else:\n",
    "            return \"_{\"+str(number)+\"}\"\n",
    "    \n",
    "    def __str__(self):\n",
    "        return ''.join(\n",
    "            [str(element)+Molecule.as_subscript(self.elements[element])\n",
    "             for element in self.elements])\n",
    "    \n",
    "    def __mul__(self, other):\n",
    "        if type(other)==Molecule:\n",
    "            self.elements.update(other.elements)\n",
    "        else:\n",
    "            self.add_element(other,1)\n",
    "        return self\n",
    "    \n",
    "    def __rmul__(self, stoich):\n",
    "        res = Side()\n",
    "        res.add(self, stoich)\n",
    "        return res\n",
    "    \n",
    "    def __add__(self, other):\n",
    "        if type(other)==Side:\n",
    "            other.molecules[self]=1\n",
    "            return other\n",
    "        else:\n",
    "            res=Side()\n",
    "            res.add(self,1)\n",
    "            res.add(other,1)\n",
    "\n",
    "class Side:\n",
    "    def __init__(self):\n",
    "        self.molecules={}\n",
    "        \n",
    "    def add(self, reactant, stoichiometry):\n",
    "        self.molecules[reactant]=stoichiometry\n",
    "        \n",
    "    @staticmethod\n",
    "    def print_if_not_one(number):\n",
    "        if number==1:\n",
    "            return ''\n",
    "        else: return str(number)\n",
    "    \n",
    "    def __str__(self):\n",
    "        return \" + \".join(\n",
    "            [Side.print_if_not_one(self.molecules[molecule]) + \n",
    "             str(molecule) for molecule in self.molecules])\n",
    "    \n",
    "    def __add__(self, other):\n",
    "        self.molecules.update(other.molecules)\n",
    "        return self\n",
    "    \n",
    "    def __eq__(self, other):\n",
    "        res = Reaction()\n",
    "        res.reactants = self\n",
    "        res.products = other\n",
    "        current_system.add_reaction(res) # Closure!\n",
    "        return \"Created\"\n",
    "    \n",
    "class Reaction:\n",
    "    def __init__(self):\n",
    "        self.reactants = Side() \n",
    "        self.products = Side()\n",
    "        \n",
    "    def __str__(self):\n",
    "        return (str(self.reactants) + \n",
    "                  \" \\\\rightarrow \" + \n",
    "                  str(self.products))\n",
    "\n",
    "class System:       \n",
    "    def __init__(self):\n",
    "        self.reactions=[]\n",
    "\n",
    "    def add_reaction(self, reaction):\n",
    "        self.reactions.append(reaction)\n",
    "        \n",
    "    def __str__(self):\n",
    "        return \"\\\\\\\\ \\n\".join(map(str,self.reactions))\n",
    "\n",
    "def elements(mvars, *elements):\n",
    "    for element in elements:\n",
    "        mvars[element]=Element(element)\n",
    "        \n",
    "current_system = System()"
   ]
  },
  {
   "cell_type": "code",
   "execution_count": 14,
   "metadata": {},
   "outputs": [],
   "source": [
    "from reactionsdsl import *"
   ]
  },
  {
   "cell_type": "code",
   "execution_count": 15,
   "metadata": {},
   "outputs": [],
   "source": [
    "elements(globals(),'C','N','O','H')"
   ]
  },
  {
   "cell_type": "code",
   "execution_count": 16,
   "metadata": {},
   "outputs": [
    {
     "data": {
      "text/plain": [
       "<reactionsdsl.Element at 0x111b5c198>"
      ]
     },
     "execution_count": 16,
     "metadata": {},
     "output_type": "execute_result"
    }
   ],
   "source": [
    "C"
   ]
  },
  {
   "cell_type": "code",
   "execution_count": 17,
   "metadata": {},
   "outputs": [
    {
     "data": {
      "text/plain": [
       "'Created'"
      ]
     },
     "execution_count": 17,
     "metadata": {},
     "output_type": "execute_result"
    }
   ],
   "source": [
    "O/2+2*(H/2) == 2*(H/2*O)"
   ]
  },
  {
   "cell_type": "code",
   "execution_count": 18,
   "metadata": {},
   "outputs": [
    {
     "data": {
      "text/latex": [
       "$$2H_2 + O_2 \\rightarrow 2H_2O$$"
      ],
      "text/plain": [
       "<IPython.core.display.Math object>"
      ]
     },
     "metadata": {},
     "output_type": "display_data"
    }
   ],
   "source": [
    "display(Math(str(current_system)))"
   ]
  },
  {
   "cell_type": "markdown",
   "metadata": {},
   "source": [
    "Python is not perfect for this, because it lacks the idea of parenthesis-\n",
    "free function dispatch and other things that make internal DSLs pretty.\n",
    "\n"
   ]
  },
  {
   "cell_type": "code",
   "execution_count": null,
   "metadata": {},
   "outputs": [],
   "source": []
  }
 ],
 "metadata": {
  "kernelspec": {
   "display_name": "Python 3",
   "language": "python",
   "name": "python3"
  },
  "language_info": {
   "codemirror_mode": {
    "name": "ipython",
    "version": 3
   },
   "file_extension": ".py",
   "mimetype": "text/x-python",
   "name": "python",
   "nbconvert_exporter": "python",
   "pygments_lexer": "ipython3",
   "version": "3.6.3"
  }
 },
 "nbformat": 4,
 "nbformat_minor": 2
}
