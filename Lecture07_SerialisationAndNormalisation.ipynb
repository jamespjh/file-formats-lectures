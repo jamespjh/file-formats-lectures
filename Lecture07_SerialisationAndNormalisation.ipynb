{
 "cells": [
  {
   "cell_type": "markdown",
   "metadata": {},
   "source": [
    "# What can go wrong?"
   ]
  },
  {
   "cell_type": "markdown",
   "metadata": {},
   "source": [
    "Consider a simple python computational model of chemical reaction networks:"
   ]
  },
  {
   "cell_type": "code",
   "execution_count": 1,
   "metadata": {},
   "outputs": [],
   "source": [
    "class Element:\n",
    "    def __init__(self, symbol, number):\n",
    "        self.symbol = symbol\n",
    "        self.number = number\n",
    "        \n",
    "    def __str__(self):\n",
    "        return str(self.symbol)\n",
    "        \n",
    "class Molecule:\n",
    "    def __init__(self, mass):\n",
    "        self.elements= {} # Map from element to number of that element in the molecule\n",
    "        self.mass = mass\n",
    "        \n",
    "    def add_element(self, element, number):\n",
    "        self.elements[element] = number\n",
    "    \n",
    "    @staticmethod\n",
    "    def as_subscript(number):\n",
    "        if number==1:\n",
    "            return \"\"\n",
    "        \n",
    "        if number<10:\n",
    "            return \"_\"+str(number)\n",
    "        else:\n",
    "            return \"_{\"+str(number)+\"}\"\n",
    "    \n",
    "    def __str__(self):\n",
    "        return ''.join(\n",
    "            [str(element)+Molecule.as_subscript(self.elements[element])\n",
    "             for element in self.elements])\n",
    "  \n",
    "class Reaction:\n",
    "    def __init__(self):\n",
    "        self.reactants = { } # Map from reactants to stoichiometries\n",
    "        self.products = { } # Map from products to stoichiometries\n",
    "        \n",
    "    def add_reactant(self, reactant, stoichiometry):\n",
    "        self.reactants[reactant] = stoichiometry\n",
    "        \n",
    "    def add_product(self, product, stoichiometry):\n",
    "        self.products[product] = stoichiometry\n",
    "    \n",
    "    @staticmethod\n",
    "    def print_if_not_one(number):\n",
    "        if number==1:\n",
    "            return ''\n",
    "        else: return str(number)\n",
    "    \n",
    "    @staticmethod\n",
    "    def side_as_string(side):\n",
    "        return \" + \".join(\n",
    "            [Reaction.print_if_not_one(side[molecule]) + str(molecule)\n",
    "             for molecule in side])\n",
    "        \n",
    "    def __str__(self):\n",
    "        return (Reaction.side_as_string(self.reactants)+\n",
    "        \" \\\\rightarrow \"+Reaction.side_as_string(self.products))\n",
    "    \n",
    "class System:\n",
    "    def __init__(self):\n",
    "        self.reactions=[]\n",
    "    def add_reaction(self, reaction):\n",
    "        self.reactions.append(reaction)\n",
    "        \n",
    "    def __str__(self):\n",
    "        return \"\\n\".join(self.reactions)"
   ]
  },
  {
   "cell_type": "code",
   "execution_count": 2,
   "metadata": {},
   "outputs": [
    {
     "name": "stdout",
     "output_type": "stream",
     "text": [
      "C_6H_{12}O_6 + 6O_2 \\rightarrow 6CO_2 + 6H_2O\n"
     ]
    }
   ],
   "source": [
    "c=Element(\"C\", 12)\n",
    "o=Element(\"O\", 8)\n",
    "h=Element(\"H\", 1)\n",
    "\n",
    "co2 = Molecule(44.01)\n",
    "co2.add_element(c,1)\n",
    "co2.add_element(o,2)\n",
    "\n",
    "h2o = Molecule(18.01)\n",
    "h2o.add_element(h,2)\n",
    "h2o.add_element(o,1)\n",
    "\n",
    "o2 = Molecule(32.00)\n",
    "o2.add_element(o,2)\n",
    "\n",
    "glucose = Molecule(180.16)\n",
    "glucose.add_element(c,6)\n",
    "glucose.add_element(h,12)\n",
    "glucose.add_element(o,6)\n",
    "\n",
    "combustion = Reaction()\n",
    "combustion.add_reactant(glucose,  1)\n",
    "combustion.add_reactant(o2, 6)\n",
    "combustion.add_product(co2, 6)\n",
    "combustion.add_product(h2o, 6)\n",
    "\n",
    "print(combustion)"
   ]
  },
  {
   "cell_type": "code",
   "execution_count": 3,
   "metadata": {},
   "outputs": [
    {
     "data": {
      "text/latex": [
       "$$C_6H_{12}O_6 + 6O_2 \\rightarrow 6CO_2 + 6H_2O$$"
      ],
      "text/plain": [
       "<IPython.core.display.Math object>"
      ]
     },
     "metadata": {},
     "output_type": "display_data"
    }
   ],
   "source": [
    "from IPython.display import display, Math\n",
    "display(Math(str(combustion)))"
   ]
  },
  {
   "cell_type": "markdown",
   "metadata": {},
   "source": [
    "We could reasonably consider using the latex representation of this as a fileformat for reactions. (Though we need to represent the molecular mass in some way we've not thought of.)\n",
    "\n",
    "We've already shown how to **serialise** the data to this representation.\n",
    "How hard would it be to **deserialise** it?\n",
    "\n",
    "Actually, pretty darn hard.\n",
    "\n",
    "In the wild, such datafiles will have all kinds of complications, and making a hand-coded string parser for such\n",
    "text will be highly problematic. In this lecture, we're going to look at the kind of problems that can arise, and\n",
    "some standard ways to solve them, which will lead us to the idea of **normalisation** in databases.\n",
    "\n",
    "Next lecture, we'll look at how we might create a file format which does indeed look like such a fluent mathematical\n",
    "representation, which we'll call a **Domain Specific Language**."
   ]
  },
  {
   "cell_type": "markdown",
   "metadata": {},
   "source": [
    "## Non-normal data representations: First normal form."
   ]
  },
  {
   "cell_type": "markdown",
   "metadata": {},
   "source": [
    "Consider the mistakes that someone might make when typing in a reaction in the above format: they could easily, if there are multiple reactions in a system, type glucose in correctly as `C_6H_{12}O_6` the first time, but the second type accidentally type `C_6H_{12}o_6.`\n",
    "\n",
    "The system wouldn't know these are the same molecule, so, for example, if building a mass action model of reaction kinetics, the differential equations would come out wrong. "
   ]
  },
  {
   "cell_type": "markdown",
   "metadata": {},
   "source": [
    "The natural-seeming solution to this is, in your data format, to name each molecule and atom, and consider a representation in terms of CSV files:"
   ]
  },
  {
   "cell_type": "code",
   "execution_count": 4,
   "metadata": {},
   "outputs": [
    {
     "name": "stdout",
     "output_type": "stream",
     "text": [
      "Overwriting molecules.csv\n"
     ]
    }
   ],
   "source": [
    "%%writefile molecules.csv\n",
    "# name, elements, numbers\n",
    "\n",
    "water, H;O , 1;2\n",
    "oxygen, O , 2\n",
    "carbon_dioxide, C;O , 1;2\n",
    "glucose, C;H;O, 6;12;6"
   ]
  },
  {
   "cell_type": "code",
   "execution_count": 5,
   "metadata": {},
   "outputs": [
    {
     "name": "stdout",
     "output_type": "stream",
     "text": [
      "Overwriting reactions.csv\n"
     ]
    }
   ],
   "source": [
    "%%writefile reactions.csv\n",
    "\n",
    "# name, reactants, products, reactant_stoichiometries, product_stoichiometries\n",
    "\n",
    "combustion_of_glucose, glucose;oxygen, carbon_dioxide;water, 1;6, 6;6"
   ]
  },
  {
   "cell_type": "markdown",
   "metadata": {},
   "source": [
    "Writing a parser is, of course, quite easy, but the existence of multiple values in one column is characteristic of a classic error in file-format design: such a file format is said to be NOT **first normal form**.\n",
    "\n",
    "There are many reasons why this sucks, but a classic one is that eventually, your separation character within the field will turn up in someone's content, and there'll be all kinds of escaping problems.\n",
    "\n",
    "Unfortunately, such things are found in the wild all the time."
   ]
  },
  {
   "cell_type": "markdown",
   "metadata": {},
   "source": [
    "The art of designing serialisations which work as row-and-column\n",
    "value tables for more complex data structures is the core of database design."
   ]
  },
  {
   "cell_type": "markdown",
   "metadata": {},
   "source": [
    "## Normalising the reaction model - a bad first attempt."
   ]
  },
  {
   "cell_type": "markdown",
   "metadata": {},
   "source": [
    "How could we go about normalising this model. One choice is to list each molecule-element **relation** as a separate table row:"
   ]
  },
  {
   "cell_type": "code",
   "execution_count": 6,
   "metadata": {},
   "outputs": [
    {
     "name": "stdout",
     "output_type": "stream",
     "text": [
      "Overwriting molecules.csv\n"
     ]
    }
   ],
   "source": [
    "%%writefile molecules.csv\n",
    "# name, element, number\n",
    "\n",
    "water, H , 1\n",
    "water, O, 2\n",
    "oxygen, O , 2\n",
    "carbon_dioxide, C , 1\n",
    "carbon_dioxide, O, 2"
   ]
  },
  {
   "cell_type": "markdown",
   "metadata": {},
   "source": [
    "This is fine as far as it goes, but, it falls down as soon as we want to associate another property with a molecule and atom.\n",
    "\n",
    "We could repeat the data each time:"
   ]
  },
  {
   "cell_type": "code",
   "execution_count": 7,
   "metadata": {},
   "outputs": [
    {
     "name": "stdout",
     "output_type": "stream",
     "text": [
      "Overwriting molecules.csv\n"
     ]
    }
   ],
   "source": [
    "%%writefile molecules.csv\n",
    "# name, element, number, molecular_mass, atomic_number\n",
    "\n",
    "water, H , 2, 18.01, 1\n",
    "water, O, 1, 18.01, 8\n",
    "oxygen, O, 2, 32.00, 8"
   ]
  },
  {
   "cell_type": "markdown",
   "metadata": {},
   "source": [
    "which would allow our data file to be potentially be self-inconsistent, violating the design principle that each\n",
    "piece of information should be stated only once. Indeed, this is so obviously stupid that it's hard to imagine doing it,\n",
    "but the mistake is so common in the wild that it has a name: such a structure is said to be NOT **second normal form**."
   ]
  },
  {
   "cell_type": "markdown",
   "metadata": {},
   "source": [
    "## Normalising the model - relations and keys"
   ]
  },
  {
   "cell_type": "markdown",
   "metadata": {},
   "source": [
    "So, how do we do this correctly?"
   ]
  },
  {
   "cell_type": "markdown",
   "metadata": {},
   "source": [
    "We need to specify data about each molecule, reaction and atom once, and then specify the **relations** between them."
   ]
  },
  {
   "cell_type": "code",
   "execution_count": 8,
   "metadata": {},
   "outputs": [
    {
     "name": "stdout",
     "output_type": "stream",
     "text": [
      "Overwriting molecules.csv\n"
     ]
    }
   ],
   "source": [
    "%%writefile molecules.csv\n",
    "# name, molecular_mass\n",
    "\n",
    "water, 18.01\n",
    "oxygen, 32.00"
   ]
  },
  {
   "cell_type": "code",
   "execution_count": 9,
   "metadata": {},
   "outputs": [
    {
     "name": "stdout",
     "output_type": "stream",
     "text": [
      "Overwriting atoms.csv\n"
     ]
    }
   ],
   "source": [
    "%%writefile atoms.csv\n",
    "\n",
    "# symbol, atomic number\n",
    "H, 1\n",
    "O, 8\n",
    "C, 6"
   ]
  },
  {
   "cell_type": "code",
   "execution_count": 10,
   "metadata": {},
   "outputs": [
    {
     "name": "stdout",
     "output_type": "stream",
     "text": [
      "Overwriting atoms_in_molecules.csv\n"
     ]
    }
   ],
   "source": [
    "%%writefile atoms_in_molecules.csv\n",
    "\n",
    "# rel_number, molecule, symbol, number\n",
    "0, water, H , 1\n",
    "1, water, O, 2\n",
    "2, oxygen, O , 2"
   ]
  },
  {
   "cell_type": "markdown",
   "metadata": {},
   "source": [
    "This last table is called a **join table** - and is needed whenever we want to specify a \"many-to-many\" relationship.\n",
    "(Each atom can be in more than one molecule, and each molecule has more than one atom.)"
   ]
  },
  {
   "cell_type": "markdown",
   "metadata": {},
   "source": [
    "Note each table needs to have a set of columns which taken together form a unique identifier for that row; called a \"key\". If more than one is possible, we choose one and call it a **primary key**. (And in practice, we normally choose a single column for this: hence the 'rel_number' column, though the tuple {molecule, symbol} here is another **candidate key**.)"
   ]
  },
  {
   "cell_type": "markdown",
   "metadata": {},
   "source": [
    "Now, proper database tools use much more sophisticated representations than just csv files -\n",
    "including **indices** to enable hash-table like efficient lookups, and support for managing multiple users at the same time.\n",
    "\n",
    "However, the **principles** of database normalisation and the relational model will be helpful\n",
    "right across our thinking about data representation, whether these are dataframes in Pandas, tensors in tensorflow, or anything else..."
   ]
  },
  {
   "cell_type": "markdown",
   "metadata": {},
   "source": [
    "## Making a database - SQLite"
   ]
  },
  {
   "cell_type": "markdown",
   "metadata": {},
   "source": [
    "Let's look at how we would use a simple database in Python to represent atoms and molecules. If you've never seen SQL before, you should attend one of the 'software carpentry' sessions. However, we expect you have, so this builds on raw sql to look at a more python-style way to interact with databases."
   ]
  },
  {
   "cell_type": "code",
   "execution_count": 11,
   "metadata": {},
   "outputs": [
    {
     "name": "stdout",
     "output_type": "stream",
     "text": [
      "Remove database to teach again from scratch\n"
     ]
    }
   ],
   "source": [
    "import os\n",
    "try:\n",
    "    os.remove('molecules.db')\n",
    "    print(\"Remove database to teach again from scratch\")\n",
    "except FileNotFoundError:\n",
    "    print(\"No DB since this notebook was last run\")"
   ]
  },
  {
   "cell_type": "code",
   "execution_count": 12,
   "metadata": {},
   "outputs": [],
   "source": [
    "import sqlalchemy\n",
    "engine = sqlalchemy.create_engine('sqlite:///molecules.db', echo=True)"
   ]
  },
  {
   "cell_type": "markdown",
   "metadata": {},
   "source": [
    "Sqlite is a simple very-lightweight database tool - without support for concurrent users - but it's great for little hacks like this. For full-on database work you'll probably want to use https://www.postgresql.org ."
   ]
  },
  {
   "cell_type": "markdown",
   "metadata": {},
   "source": [
    "The metadata for the database describing the tables present, and their columns, is defined in Python using SQLAlchemy, the leading python database tool, thus:"
   ]
  },
  {
   "cell_type": "code",
   "execution_count": 13,
   "metadata": {},
   "outputs": [],
   "source": [
    "from sqlalchemy import Table, Column, Integer, Float, String, MetaData, ForeignKey\n",
    "metadata = MetaData()\n",
    "molecules = Table('molecules', metadata,\n",
    "                  Column('name', String, primary_key=True),\n",
    "                  Column('mass', Float))\n",
    "\n",
    "atoms = Table('atoms', metadata,\n",
    "      Column('symbol', String, primary_key=True),\n",
    "      Column('number', Integer)\n",
    "             )"
   ]
  },
  {
   "cell_type": "code",
   "execution_count": 14,
   "metadata": {},
   "outputs": [],
   "source": [
    "atoms_in_molecules = Table('atoms_molecules', metadata,\n",
    "       Column('atom', None, ForeignKey('atoms.symbol')),\n",
    "       Column('molecule', None, ForeignKey('molecules.name')),\n",
    "       Column('number', Integer)\n",
    ")"
   ]
  },
  {
   "cell_type": "code",
   "execution_count": 15,
   "metadata": {},
   "outputs": [
    {
     "name": "stdout",
     "output_type": "stream",
     "text": [
      "2018-01-26 10:44:50,876 INFO sqlalchemy.engine.base.Engine SELECT CAST('test plain returns' AS VARCHAR(60)) AS anon_1\n",
      "2018-01-26 10:44:50,877 INFO sqlalchemy.engine.base.Engine ()\n",
      "2018-01-26 10:44:50,879 INFO sqlalchemy.engine.base.Engine SELECT CAST('test unicode returns' AS VARCHAR(60)) AS anon_1\n",
      "2018-01-26 10:44:50,880 INFO sqlalchemy.engine.base.Engine ()\n",
      "2018-01-26 10:44:50,881 INFO sqlalchemy.engine.base.Engine PRAGMA table_info(\"molecules\")\n",
      "2018-01-26 10:44:50,882 INFO sqlalchemy.engine.base.Engine ()\n",
      "2018-01-26 10:44:50,883 INFO sqlalchemy.engine.base.Engine PRAGMA table_info(\"atoms\")\n",
      "2018-01-26 10:44:50,883 INFO sqlalchemy.engine.base.Engine ()\n",
      "2018-01-26 10:44:50,884 INFO sqlalchemy.engine.base.Engine PRAGMA table_info(\"atoms_molecules\")\n",
      "2018-01-26 10:44:50,885 INFO sqlalchemy.engine.base.Engine ()\n",
      "2018-01-26 10:44:50,886 INFO sqlalchemy.engine.base.Engine \n",
      "CREATE TABLE molecules (\n",
      "\tname VARCHAR NOT NULL, \n",
      "\tmass FLOAT, \n",
      "\tPRIMARY KEY (name)\n",
      ")\n",
      "\n",
      "\n",
      "2018-01-26 10:44:50,887 INFO sqlalchemy.engine.base.Engine ()\n",
      "2018-01-26 10:44:50,889 INFO sqlalchemy.engine.base.Engine COMMIT\n",
      "2018-01-26 10:44:50,890 INFO sqlalchemy.engine.base.Engine \n",
      "CREATE TABLE atoms (\n",
      "\tsymbol VARCHAR NOT NULL, \n",
      "\tnumber INTEGER, \n",
      "\tPRIMARY KEY (symbol)\n",
      ")\n",
      "\n",
      "\n",
      "2018-01-26 10:44:50,890 INFO sqlalchemy.engine.base.Engine ()\n",
      "2018-01-26 10:44:50,892 INFO sqlalchemy.engine.base.Engine COMMIT\n",
      "2018-01-26 10:44:50,893 INFO sqlalchemy.engine.base.Engine \n",
      "CREATE TABLE atoms_molecules (\n",
      "\tatom VARCHAR, \n",
      "\tmolecule VARCHAR, \n",
      "\tnumber INTEGER, \n",
      "\tFOREIGN KEY(atom) REFERENCES atoms (symbol), \n",
      "\tFOREIGN KEY(molecule) REFERENCES molecules (name)\n",
      ")\n",
      "\n",
      "\n",
      "2018-01-26 10:44:50,894 INFO sqlalchemy.engine.base.Engine ()\n",
      "2018-01-26 10:44:50,895 INFO sqlalchemy.engine.base.Engine COMMIT\n",
      "MetaData(bind=None)\n"
     ]
    }
   ],
   "source": [
    "metadata.create_all(engine)\n",
    "print(metadata)"
   ]
  },
  {
   "cell_type": "markdown",
   "metadata": {},
   "source": [
    "Note the SQL syntax for creating tables is generated by the python tool, and sent to the database server."
   ]
  },
  {
   "cell_type": "markdown",
   "metadata": {},
   "source": [
    "```\n",
    "CREATE TABLE molecules (\n",
    "\tname VARCHAR NOT NULL, \n",
    "\tmass FLOAT, \n",
    "\tPRIMARY KEY (name)\n",
    ")\n",
    "```"
   ]
  },
  {
   "cell_type": "markdown",
   "metadata": {},
   "source": [
    "We'll turn off our automatic printing of all the raw sql to avoid this notebook being unreadable."
   ]
  },
  {
   "cell_type": "code",
   "execution_count": 16,
   "metadata": {},
   "outputs": [],
   "source": [
    "engine.echo=False"
   ]
  },
  {
   "cell_type": "markdown",
   "metadata": {},
   "source": [
    "We can also write data to our database using this python tooling:"
   ]
  },
  {
   "cell_type": "code",
   "execution_count": 17,
   "metadata": {},
   "outputs": [],
   "source": [
    "ins = molecules.insert().values(name='water', mass='18.01')"
   ]
  },
  {
   "cell_type": "code",
   "execution_count": 18,
   "metadata": {},
   "outputs": [
    {
     "data": {
      "text/plain": [
       "<sqlalchemy.engine.result.ResultProxy at 0x10c737908>"
      ]
     },
     "execution_count": 18,
     "metadata": {},
     "output_type": "execute_result"
    }
   ],
   "source": [
    "conn = engine.connect()\n",
    "conn.execute(ins)"
   ]
  },
  {
   "cell_type": "markdown",
   "metadata": {},
   "source": [
    "And query it:"
   ]
  },
  {
   "cell_type": "code",
   "execution_count": 19,
   "metadata": {},
   "outputs": [],
   "source": [
    "from sqlalchemy.sql import select\n",
    "s = select([molecules])\n",
    "result = conn.execute(s)"
   ]
  },
  {
   "cell_type": "code",
   "execution_count": 20,
   "metadata": {},
   "outputs": [
    {
     "name": "stdout",
     "output_type": "stream",
     "text": [
      "18.01\n"
     ]
    }
   ],
   "source": [
    "print(result.fetchone()['mass'])"
   ]
  },
  {
   "cell_type": "markdown",
   "metadata": {},
   "source": [
    "If we have enough understanding of sql syntax, we can use appropriate **join** statements to find, for example, the mass of all molecules which contain oxygen:"
   ]
  },
  {
   "cell_type": "code",
   "execution_count": 21,
   "metadata": {},
   "outputs": [
    {
     "data": {
      "text/plain": [
       "<sqlalchemy.engine.result.ResultProxy at 0x10c761470>"
      ]
     },
     "execution_count": 21,
     "metadata": {},
     "output_type": "execute_result"
    }
   ],
   "source": [
    "conn.execute(molecules.insert().values(name='oxygen', mass='16.00'))\n",
    "conn.execute(atoms.insert().values(symbol='O', number=8))\n",
    "conn.execute(atoms.insert().values(symbol='H', number=1))\n",
    "conn.execute(atoms_in_molecules.insert().values(molecule='water',atom='O',number=1))\n",
    "conn.execute(atoms_in_molecules.insert().values(molecule='oxygen',atom='O',number=2))\n",
    "conn.execute(atoms_in_molecules.insert().values(molecule='water',atom='H', number=1))"
   ]
  },
  {
   "cell_type": "code",
   "execution_count": 47,
   "metadata": {},
   "outputs": [
    {
     "name": "stdout",
     "output_type": "stream",
     "text": [
      "[(18.01,)]\n"
     ]
    }
   ],
   "source": [
    "result=conn.execute(\n",
    "    'SELECT mass FROM molecules JOIN atoms_molecules ' + \n",
    "    'ON molecules.name = atoms_molecules.molecule JOIN atoms ' +\n",
    "    'ON atoms.symbol = atoms_molecules.atom ' +\n",
    "    'WHERE atoms.symbol = \"H\"')\n",
    "print(result.fetchall())"
   ]
  },
  {
   "cell_type": "markdown",
   "metadata": {},
   "source": [
    "But we can do much better..."
   ]
  },
  {
   "cell_type": "markdown",
   "metadata": {},
   "source": [
    "## Data and Objects - the Object-Relational-Mapping"
   ]
  },
  {
   "cell_type": "markdown",
   "metadata": {},
   "source": [
    "We notice that when we find a correct relational model for our data, many of the rows are suggestive of exactly the data\n",
    "we would expect to supply to an object constructor - data about an object. References to keys of other tables in rows suggest composition\n",
    "relations while many-to-many join tables often represent aggregation relationships, and data about the relationship."
   ]
  },
  {
   "cell_type": "markdown",
   "metadata": {},
   "source": [
    "As a result of this, powerful tools exist to **automatically** create object structures from database schema, including saving and loading."
   ]
  },
  {
   "cell_type": "code",
   "execution_count": 48,
   "metadata": {},
   "outputs": [
    {
     "name": "stdout",
     "output_type": "stream",
     "text": [
      "Remove database to teach again from scratch\n"
     ]
    }
   ],
   "source": [
    "import os\n",
    "try:\n",
    "    os.remove('molecules.db')\n",
    "    print(\"Remove database to teach again from scratch\")\n",
    "except FileNotFoundError:\n",
    "    print(\"No DB since this notebook was last run\")"
   ]
  },
  {
   "cell_type": "code",
   "execution_count": 50,
   "metadata": {},
   "outputs": [],
   "source": [
    "import sqlalchemy\n",
    "engine = sqlalchemy.create_engine('sqlite:///molecules.db')"
   ]
  },
  {
   "cell_type": "code",
   "execution_count": 51,
   "metadata": {},
   "outputs": [],
   "source": [
    "from sqlalchemy import Column, Integer, String\n",
    "from sqlalchemy.orm import relationship\n",
    "from sqlalchemy.ext.declarative import declarative_base\n",
    "Base = declarative_base()\n",
    "\n",
    "class Element(Base):\n",
    "    __tablename__ = \"atoms\"\n",
    "    symbol = Column(String, primary_key=True)\n",
    "    number = Column(Integer)\n",
    "    molecules = relationship(\"AtomsPerMolecule\", backref=\"atom\")"
   ]
  },
  {
   "cell_type": "code",
   "execution_count": 52,
   "metadata": {},
   "outputs": [],
   "source": [
    "class Molecule(Base):\n",
    "    __tablename__ = \"molecules\"\n",
    "    name = Column(String, primary_key=True)\n",
    "    mass = Column(Float)\n",
    "    atoms = relationship(\"AtomsPerMolecule\", backref=\"molecule\")"
   ]
  },
  {
   "cell_type": "code",
   "execution_count": 53,
   "metadata": {},
   "outputs": [],
   "source": [
    "class AtomsPerMolecule(Base):\n",
    "    __tablename__ = 'atoms_per_molecule'\n",
    "    id = Column(Integer, primary_key=True)\n",
    "    atom_id = Column(None, ForeignKey('atoms.symbol'))\n",
    "    molecule_id = Column(None, ForeignKey('molecules.name'))\n",
    "    number = Column(Integer)"
   ]
  },
  {
   "cell_type": "markdown",
   "metadata": {},
   "source": [
    "If we now create our tables, the system will automatically create a DB:"
   ]
  },
  {
   "cell_type": "code",
   "execution_count": 54,
   "metadata": {},
   "outputs": [],
   "source": [
    "Base.metadata.create_all(engine)"
   ]
  },
  {
   "cell_type": "code",
   "execution_count": 55,
   "metadata": {},
   "outputs": [],
   "source": [
    "engine.echo=False"
   ]
  },
  {
   "cell_type": "markdown",
   "metadata": {},
   "source": [
    "And we can create objects with a simple interface that looks just like ordinary classes:"
   ]
  },
  {
   "cell_type": "code",
   "execution_count": 56,
   "metadata": {},
   "outputs": [],
   "source": [
    "oxygen = Element(symbol='O',number=8)\n",
    "hydrogen = Element(symbol='H', number=1)\n",
    "elements = [oxygen, hydrogen]"
   ]
  },
  {
   "cell_type": "code",
   "execution_count": 57,
   "metadata": {},
   "outputs": [],
   "source": [
    "water = Molecule(name='water',mass=18.01)\n",
    "oxygen_m = Molecule(name='oxygen', mass=16.00)\n",
    "hydrogen_m = Molecule(name='hydrogen', mass=2.02)\n",
    "molecules = [water, oxygen_m, hydrogen_m]"
   ]
  },
  {
   "cell_type": "code",
   "execution_count": 58,
   "metadata": {},
   "outputs": [],
   "source": [
    "amounts = [\n",
    "    AtomsPerMolecule(atom=oxygen, molecule=water, number =1),\n",
    "    AtomsPerMolecule(atom=hydrogen, molecule=water, number =2),\n",
    "    AtomsPerMolecule(atom=oxygen, molecule=oxygen_m, number =2),\n",
    "    AtomsPerMolecule(atom=hydrogen, molecule=hydrogen_m, number =2)\n",
    "]"
   ]
  },
  {
   "cell_type": "code",
   "execution_count": 59,
   "metadata": {},
   "outputs": [],
   "source": [
    "from sqlalchemy.orm import sessionmaker\n",
    "Session = sessionmaker(bind=engine)\n",
    "session=Session()"
   ]
  },
  {
   "cell_type": "code",
   "execution_count": 60,
   "metadata": {},
   "outputs": [],
   "source": [
    "session.bulk_save_objects(elements+molecules+amounts)"
   ]
  },
  {
   "cell_type": "code",
   "execution_count": 35,
   "metadata": {},
   "outputs": [
    {
     "data": {
      "text/plain": [
       "'water'"
      ]
     },
     "execution_count": 35,
     "metadata": {},
     "output_type": "execute_result"
    }
   ],
   "source": [
    "oxygen.molecules[0].molecule.name"
   ]
  },
  {
   "cell_type": "code",
   "execution_count": 36,
   "metadata": {},
   "outputs": [
    {
     "data": {
      "text/plain": [
       "'water'"
      ]
     },
     "execution_count": 36,
     "metadata": {},
     "output_type": "execute_result"
    }
   ],
   "source": [
    "session.query(Molecule).all()[0].name"
   ]
  },
  {
   "cell_type": "code",
   "execution_count": 37,
   "metadata": {},
   "outputs": [],
   "source": [
    "session.commit()"
   ]
  },
  {
   "cell_type": "markdown",
   "metadata": {},
   "source": [
    "This is a very powerful technique - we get our class-type interface in python, with database persistence and searchability for free!"
   ]
  },
  {
   "cell_type": "markdown",
   "metadata": {},
   "source": [
    "## Moving on from databases"
   ]
  },
  {
   "cell_type": "markdown",
   "metadata": {},
   "source": [
    "However, this is a lecture primarily on file-format design. Databases are one choice, but we often want to make a human-readable\n",
    "file format to represent our dataset."
   ]
  },
  {
   "cell_type": "markdown",
   "metadata": {},
   "source": [
    "One choice, now we know about it, is to serialise all the database tables as CSV:"
   ]
  },
  {
   "cell_type": "code",
   "execution_count": 38,
   "metadata": {},
   "outputs": [],
   "source": [
    "import pandas"
   ]
  },
  {
   "cell_type": "code",
   "execution_count": 39,
   "metadata": {},
   "outputs": [
    {
     "data": {
      "text/plain": [
       "'SELECT molecules.name, molecules.mass \\nFROM molecules'"
      ]
     },
     "execution_count": 39,
     "metadata": {},
     "output_type": "execute_result"
    }
   ],
   "source": [
    "str(session.query(Molecule).statement)"
   ]
  },
  {
   "cell_type": "code",
   "execution_count": 40,
   "metadata": {},
   "outputs": [],
   "source": [
    "dataframe = pandas.read_sql(session.query(Molecule).statement, session.bind)"
   ]
  },
  {
   "cell_type": "code",
   "execution_count": 41,
   "metadata": {},
   "outputs": [
    {
     "data": {
      "text/html": [
       "<div>\n",
       "<style scoped>\n",
       "    .dataframe tbody tr th:only-of-type {\n",
       "        vertical-align: middle;\n",
       "    }\n",
       "\n",
       "    .dataframe tbody tr th {\n",
       "        vertical-align: top;\n",
       "    }\n",
       "\n",
       "    .dataframe thead th {\n",
       "        text-align: right;\n",
       "    }\n",
       "</style>\n",
       "<table border=\"1\" class=\"dataframe\">\n",
       "  <thead>\n",
       "    <tr style=\"text-align: right;\">\n",
       "      <th></th>\n",
       "      <th>name</th>\n",
       "      <th>mass</th>\n",
       "    </tr>\n",
       "  </thead>\n",
       "  <tbody>\n",
       "    <tr>\n",
       "      <th>0</th>\n",
       "      <td>water</td>\n",
       "      <td>18.01</td>\n",
       "    </tr>\n",
       "    <tr>\n",
       "      <th>1</th>\n",
       "      <td>oxygen</td>\n",
       "      <td>16.00</td>\n",
       "    </tr>\n",
       "    <tr>\n",
       "      <th>2</th>\n",
       "      <td>hydrogen</td>\n",
       "      <td>2.02</td>\n",
       "    </tr>\n",
       "  </tbody>\n",
       "</table>\n",
       "</div>"
      ],
      "text/plain": [
       "       name   mass\n",
       "0     water  18.01\n",
       "1    oxygen  16.00\n",
       "2  hydrogen   2.02"
      ]
     },
     "execution_count": 41,
     "metadata": {},
     "output_type": "execute_result"
    }
   ],
   "source": [
    "dataframe"
   ]
  },
  {
   "cell_type": "code",
   "execution_count": 42,
   "metadata": {},
   "outputs": [
    {
     "name": "stdout",
     "output_type": "stream",
     "text": [
      ",name,mass\n",
      "0,water,18.01\n",
      "1,oxygen,16.0\n",
      "2,hydrogen,2.02\n"
     ]
    }
   ],
   "source": [
    "import sys\n",
    "dataframe.to_csv(sys.stdout)"
   ]
  },
  {
   "cell_type": "markdown",
   "metadata": {},
   "source": [
    "Deserialising is also easy:"
   ]
  },
  {
   "cell_type": "code",
   "execution_count": 43,
   "metadata": {},
   "outputs": [
    {
     "name": "stdout",
     "output_type": "stream",
     "text": [
      "Overwriting atoms.csv\n"
     ]
    }
   ],
   "source": [
    "%%writefile atoms.csv\n",
    "\n",
    "symbol,number\n",
    "C, 6\n",
    "N, 7"
   ]
  },
  {
   "cell_type": "code",
   "execution_count": 44,
   "metadata": {},
   "outputs": [
    {
     "data": {
      "text/html": [
       "<div>\n",
       "<style scoped>\n",
       "    .dataframe tbody tr th:only-of-type {\n",
       "        vertical-align: middle;\n",
       "    }\n",
       "\n",
       "    .dataframe tbody tr th {\n",
       "        vertical-align: top;\n",
       "    }\n",
       "\n",
       "    .dataframe thead th {\n",
       "        text-align: right;\n",
       "    }\n",
       "</style>\n",
       "<table border=\"1\" class=\"dataframe\">\n",
       "  <thead>\n",
       "    <tr style=\"text-align: right;\">\n",
       "      <th></th>\n",
       "      <th>symbol</th>\n",
       "      <th>number</th>\n",
       "    </tr>\n",
       "  </thead>\n",
       "  <tbody>\n",
       "    <tr>\n",
       "      <th>0</th>\n",
       "      <td>C</td>\n",
       "      <td>6</td>\n",
       "    </tr>\n",
       "    <tr>\n",
       "      <th>1</th>\n",
       "      <td>N</td>\n",
       "      <td>7</td>\n",
       "    </tr>\n",
       "  </tbody>\n",
       "</table>\n",
       "</div>"
      ],
      "text/plain": [
       "  symbol  number\n",
       "0      C       6\n",
       "1      N       7"
      ]
     },
     "execution_count": 44,
     "metadata": {},
     "output_type": "execute_result"
    }
   ],
   "source": [
    "from pathlib import Path\n",
    "atoms = pandas.read_csv(open('atoms.csv'))\n",
    "atoms"
   ]
  },
  {
   "cell_type": "code",
   "execution_count": 45,
   "metadata": {},
   "outputs": [],
   "source": [
    "atoms.to_sql('atoms', session.bind, if_exists='append', index=False)"
   ]
  },
  {
   "cell_type": "code",
   "execution_count": 46,
   "metadata": {},
   "outputs": [
    {
     "data": {
      "text/plain": [
       "7"
      ]
     },
     "execution_count": 46,
     "metadata": {},
     "output_type": "execute_result"
    }
   ],
   "source": [
    "session.query(Element).all()[3].number"
   ]
  },
  {
   "cell_type": "markdown",
   "metadata": {},
   "source": [
    "However, we know from last term that another common choice is to represent\n",
    "such complicated data structures in YAML. The implications of what we've just learned for serialising to and from such\n",
    "structured data is the topic of the next lecture."
   ]
  }
 ],
 "metadata": {
  "kernelspec": {
   "display_name": "Python 3",
   "language": "python",
   "name": "python3"
  },
  "language_info": {
   "codemirror_mode": {
    "name": "ipython",
    "version": 3
   },
   "file_extension": ".py",
   "mimetype": "text/x-python",
   "name": "python",
   "nbconvert_exporter": "python",
   "pygments_lexer": "ipython3",
   "version": "3.6.3"
  }
 },
 "nbformat": 4,
 "nbformat_minor": 2
}
