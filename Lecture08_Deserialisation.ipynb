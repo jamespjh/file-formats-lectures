{
 "cells": [
  {
   "cell_type": "markdown",
   "metadata": {},
   "source": [
    "# Deserialisation"
   ]
  },
  {
   "cell_type": "markdown",
   "metadata": {},
   "source": [
    "Consider a straightforward YAML serialisation for our model:"
   ]
  },
  {
   "cell_type": "code",
   "execution_count": 1,
   "metadata": {},
   "outputs": [],
   "source": [
    "class Element:\n",
    "    def __init__(self, symbol):\n",
    "        self.symbol = symbol\n",
    "    \n",
    "class Molecule:\n",
    "    def __init__(self):\n",
    "        self.elements= {} # Map from element to number of that element in the molecule\n",
    "        \n",
    "    def add_element(self, element, number):\n",
    "        self.elements[element] = number\n",
    "    \n",
    "    def to_struct(self):\n",
    "        return {x.symbol: self.elements[x] for x in self.elements}\n",
    "    \n",
    "class Reaction:\n",
    "    def __init__(self):\n",
    "        self.reactants = { } # Map from reactants to stoichiometries\n",
    "        self.products = { } # Map from products to stoichiometries\n",
    "        \n",
    "    def add_reactant(self, reactant, stoichiometry):\n",
    "        self.reactants[reactant] = stoichiometry\n",
    "        \n",
    "    def add_product(self, product, stoichiometry):\n",
    "        self.products[product] = stoichiometry\n",
    "        \n",
    "    def to_struct(self):\n",
    "        return {\n",
    "            'reactants' : [x.to_struct() for x in self.reactants],\n",
    "            'products' : [x.to_struct() for x in self.products],\n",
    "            'stoichiometries' : list(self.reactants.values())+\n",
    "                                list(self.products.values())\n",
    "        }\n",
    "     \n",
    "class System:\n",
    "    def __init__(self):\n",
    "        self.reactions=[]\n",
    "    def add_reaction(self, reaction):\n",
    "        self.reactions.append(reaction)\n",
    "        \n",
    "    def to_struct(self):\n",
    "        return [x.to_struct() for x in self.reactions]"
   ]
  },
  {
   "cell_type": "code",
   "execution_count": 2,
   "metadata": {},
   "outputs": [
    {
     "data": {
      "text/plain": [
       "[{'products': [{'C': 1, 'O': 2}, {'H': 2, 'O': 1}],\n",
       "  'reactants': [{'C': 6, 'H': 12, 'O': 6}, {'O': 2}],\n",
       "  'stoichiometries': [1, 6, 6, 6]},\n",
       " {'products': [{'H': 2, 'O': 1}],\n",
       "  'reactants': [{'H': 2}, {'O': 2}],\n",
       "  'stoichiometries': [2, 1, 2]}]"
      ]
     },
     "execution_count": 2,
     "metadata": {},
     "output_type": "execute_result"
    }
   ],
   "source": [
    "c=Element(\"C\")\n",
    "o=Element(\"O\")\n",
    "h=Element(\"H\")\n",
    "\n",
    "co2 = Molecule()\n",
    "co2.add_element(c,1)\n",
    "co2.add_element(o,2)\n",
    "\n",
    "h2o = Molecule()\n",
    "h2o.add_element(h,2)\n",
    "h2o.add_element(o,1)\n",
    "\n",
    "o2 = Molecule()\n",
    "o2.add_element(o,2)\n",
    "\n",
    "h2 = Molecule()\n",
    "h2.add_element(h,2)\n",
    "\n",
    "glucose = Molecule()\n",
    "glucose.add_element(c,6)\n",
    "glucose.add_element(h,12)\n",
    "glucose.add_element(o,6)\n",
    "\n",
    "combustion_glucose = Reaction()\n",
    "combustion_glucose.add_reactant(glucose,  1)\n",
    "combustion_glucose.add_reactant(o2, 6)\n",
    "combustion_glucose.add_product(co2, 6)\n",
    "combustion_glucose.add_product(h2o, 6)\n",
    "\n",
    "combustion_hydrogen = Reaction()\n",
    "combustion_hydrogen.add_reactant(h2,2)\n",
    "combustion_hydrogen.add_reactant(o2,1)\n",
    "combustion_hydrogen.add_product(h2o,2)\n",
    "\n",
    "s=System()\n",
    "s.add_reaction(combustion_glucose)\n",
    "s.add_reaction(combustion_hydrogen)\n",
    "\n",
    "s.to_struct()"
   ]
  },
  {
   "cell_type": "code",
   "execution_count": 3,
   "metadata": {},
   "outputs": [
    {
     "ename": "ModuleNotFoundError",
     "evalue": "No module named 'yaml'",
     "output_type": "error",
     "traceback": [
      "\u001b[0;31m---------------------------------------------------------------------------\u001b[0m",
      "\u001b[0;31mModuleNotFoundError\u001b[0m                       Traceback (most recent call last)",
      "\u001b[0;32m<ipython-input-3-c8a14ee537be>\u001b[0m in \u001b[0;36m<module>\u001b[0;34m()\u001b[0m\n\u001b[0;32m----> 1\u001b[0;31m \u001b[0;32mimport\u001b[0m \u001b[0myaml\u001b[0m\u001b[0;34m\u001b[0m\u001b[0m\n\u001b[0m\u001b[1;32m      2\u001b[0m \u001b[0mprint\u001b[0m\u001b[0;34m(\u001b[0m\u001b[0myaml\u001b[0m\u001b[0;34m.\u001b[0m\u001b[0mdump\u001b[0m\u001b[0;34m(\u001b[0m\u001b[0ms\u001b[0m\u001b[0;34m.\u001b[0m\u001b[0mto_struct\u001b[0m\u001b[0;34m(\u001b[0m\u001b[0;34m)\u001b[0m\u001b[0;34m)\u001b[0m\u001b[0;34m)\u001b[0m\u001b[0;34m\u001b[0m\u001b[0m\n",
      "\u001b[0;31mModuleNotFoundError\u001b[0m: No module named 'yaml'"
     ]
    }
   ],
   "source": [
    "import yaml\n",
    "print(yaml.dump(s.to_struct()))"
   ]
  },
  {
   "cell_type": "markdown",
   "metadata": {},
   "source": [
    "# Deserialising non-normal data structures"
   ]
  },
  {
   "cell_type": "markdown",
   "metadata": {},
   "source": [
    "We can see that this data structure, although seemingly \n",
    "sensible, is horribly non-normal."
   ]
  },
  {
   "cell_type": "markdown",
   "metadata": {},
   "source": [
    "* The stoichiometries information requires us to align each one to the corresponding molecule in order.\n",
    "* Each element is described multiple times: we will have to ensure that each mention of `C` comes back to the same constructed element object."
   ]
  },
  {
   "cell_type": "code",
   "execution_count": null,
   "metadata": {},
   "outputs": [],
   "source": [
    "class DeSerialiseStructure:\n",
    "    def __init__(self):\n",
    "        self.elements = {}\n",
    "        self.molecules = {}\n",
    "        \n",
    "    def add_element(self, candidate):\n",
    "        if candidate not in self.elements:\n",
    "            self.elements[candidate]=Element(candidate)\n",
    "        return self.elements[candidate]\n",
    "    \n",
    "    def add_molecule(self, candidate):\n",
    "        if tuple(candidate.items()) not in self.molecules:\n",
    "            m = Molecule()\n",
    "            for symbol, number in candidate.items():\n",
    "                m.add_element(self.add_element(symbol), number)\n",
    "            self.molecules[tuple(candidate.items())]=m\n",
    "        return self.molecules[tuple(candidate.items())]\n",
    "    \n",
    "    def parse_system(self, system):\n",
    "        s = System()\n",
    "        for reaction in system:\n",
    "            r = Reaction()\n",
    "            stoichiometries = reaction['stoichiometries']\n",
    "            for molecule in reaction['reactants']:\n",
    "                r.add_reactant(self.add_molecule(molecule),\n",
    "                               stoichiometries.pop(0))\n",
    "            for molecule in reaction['products']:\n",
    "                r.add_product(self.add_molecule(molecule),\n",
    "                               stoichiometries.pop(0))\n",
    "            s.add_reaction(r)\n",
    "        return s"
   ]
  },
  {
   "cell_type": "code",
   "execution_count": null,
   "metadata": {},
   "outputs": [],
   "source": [
    "de_serialiser = DeSerialiseStructure()\n",
    "round_trip = de_serialiser.parse_system(s.to_struct())"
   ]
  },
  {
   "cell_type": "code",
   "execution_count": null,
   "metadata": {},
   "outputs": [],
   "source": [
    "round_trip.to_struct()"
   ]
  },
  {
   "cell_type": "code",
   "execution_count": null,
   "metadata": {},
   "outputs": [],
   "source": [
    "de_serialiser.elements"
   ]
  },
  {
   "cell_type": "code",
   "execution_count": null,
   "metadata": {},
   "outputs": [],
   "source": [
    "de_serialiser.molecules"
   ]
  },
  {
   "cell_type": "code",
   "execution_count": null,
   "metadata": {},
   "outputs": [],
   "source": [
    "list(round_trip.reactions[0].reactants.keys())[1]"
   ]
  },
  {
   "cell_type": "code",
   "execution_count": null,
   "metadata": {},
   "outputs": [],
   "source": [
    "list(round_trip.reactions[1].reactants.keys())[1]"
   ]
  },
  {
   "cell_type": "markdown",
   "metadata": {},
   "source": [
    "In making this, we ended up choosing primary keys for our datatypes:"
   ]
  },
  {
   "cell_type": "code",
   "execution_count": null,
   "metadata": {},
   "outputs": [],
   "source": [
    "list(de_serialiser.molecules.keys())"
   ]
  },
  {
   "cell_type": "markdown",
   "metadata": {},
   "source": [
    "Again, we note that a combination of columns uniquely defining an item\n",
    "is a valid  key - there is a key correspondence between\n",
    "a candidate key in the database sense and a \"hashable\" data structure that can be used to a\n",
    "key in a `dict`.\n",
    "\n",
    "Note that to make this example even reasonably doable, we didn't add additional data to the objects (mass, rate etc)"
   ]
  },
  {
   "cell_type": "markdown",
   "metadata": {},
   "source": [
    "# Normalising a YAML structure"
   ]
  },
  {
   "cell_type": "markdown",
   "metadata": {},
   "source": [
    "To make this structure easier to de-serialise, we can make a normalised file-format, by defining primary keys (hashable types) for each entity on write:"
   ]
  },
  {
   "cell_type": "code",
   "execution_count": null,
   "metadata": {},
   "outputs": [],
   "source": [
    "class SaveSystem:\n",
    "    def __init__(self):\n",
    "        self.elements = set()\n",
    "        self.molecules = set()\n",
    "        \n",
    "    def element_key(self, element):\n",
    "        \n",
    "        return element.symbol\n",
    "    \n",
    "    def molecule_key(self, molecule):\n",
    "        key=''\n",
    "        for element, number in molecule.elements.items():\n",
    "            key+=element.symbol\n",
    "            key+=str(number)\n",
    "        return key\n",
    "    \n",
    "    def save(self, system):\n",
    "        for reaction in system.reactions:\n",
    "            for molecule in reaction.reactants:\n",
    "                self.molecules.add(molecule)\n",
    "                for element in molecule.elements:\n",
    "                    self.elements.add(element)\n",
    "            for molecule in reaction.products:\n",
    "                self.molecules.add(molecule)\n",
    "                for element in molecule.elements:\n",
    "                    self.elements.add(element)\n",
    "                    \n",
    "        result = {\n",
    "            'elements' : [self.element_key(element)\n",
    "                          for element in self.elements],\n",
    "            'molecules' : {\n",
    "                self.molecule_key(molecule):\n",
    "                    {self.element_key(element): number\n",
    "                          for element, number\n",
    "                          in molecule.elements.items()}\n",
    "                    for molecule in self.molecules},\n",
    "            'reactions' : [{\n",
    "                'reactants' : {\n",
    "                    self.molecule_key(reactant) : stoich\n",
    "                        for reactant, stoich\n",
    "                        in reaction.reactants.items()\n",
    "                },\n",
    "                'products' : {\n",
    "                    self.molecule_key(product) : stoich\n",
    "                        for product, stoich\n",
    "                        in reaction.products.items()\n",
    "                    \n",
    "                }}\n",
    "                for reaction in system.reactions]\n",
    "            }\n",
    "        return result"
   ]
  },
  {
   "cell_type": "code",
   "execution_count": null,
   "metadata": {},
   "outputs": [],
   "source": [
    "saver = SaveSystem()\n",
    "print(yaml.dump(saver.save(s)))"
   ]
  },
  {
   "cell_type": "markdown",
   "metadata": {},
   "source": [
    "We can see that to make an easily parsed file format, without having to\n",
    "guess-recognise repeated entities based on their names\n",
    "(which is highly subject to data entry error), we effectively recover\n",
    "the same tables as found for the database model.\n",
    "\n",
    "An alternative is to use a simple integer for such a primary key:"
   ]
  },
  {
   "cell_type": "code",
   "execution_count": null,
   "metadata": {},
   "outputs": [],
   "source": [
    "class SaveSystemI:\n",
    "    def __init__(self):\n",
    "        self.elements = {}\n",
    "        self.molecules = {}\n",
    "        \n",
    "    def add_element(self, element):\n",
    "        if element not in self.elements:\n",
    "            self.elements[element]=len(self.elements)\n",
    "        return self.elements[element]\n",
    "        \n",
    "    def add_molecule(self, molecule):\n",
    "        if molecule not in self.molecules:\n",
    "            self.molecules[molecule]=len(self.molecules)\n",
    "        return self.molecules[molecule]\n",
    "        \n",
    "    def element_key(self, element):\n",
    "        return self.elements[element]\n",
    "    \n",
    "    def molecule_key(self, molecule):\n",
    "        return self.molecules[molecule]\n",
    "    \n",
    "    def save(self, system):\n",
    "        for reaction in system.reactions:\n",
    "            for molecule in reaction.reactants:\n",
    "                self.add_molecule(molecule)\n",
    "                for element in molecule.elements:\n",
    "                    self.add_element(element)\n",
    "            for molecule in reaction.products:\n",
    "                self.add_molecule(molecule)\n",
    "                for element in molecule.elements:\n",
    "                    self.add_element(element)\n",
    "                    \n",
    "        result = {\n",
    "            'elements' : [element.symbol\n",
    "                          for element in self.elements],\n",
    "            'molecules' : {\n",
    "                self.molecule_key(molecule):\n",
    "                    {self.element_key(element): number\n",
    "                          for element, number\n",
    "                          in molecule.elements.items()}\n",
    "                    for molecule in self.molecules},\n",
    "            'reactions' : [{\n",
    "                'reactants' : {\n",
    "                    self.molecule_key(reactant) : stoich\n",
    "                        for reactant, stoich\n",
    "                        in reaction.reactants.items()\n",
    "                },\n",
    "                'products' : {\n",
    "                    self.molecule_key(product) : stoich\n",
    "                        for product, stoich\n",
    "                        in reaction.products.items()\n",
    "                    \n",
    "                }}\n",
    "                for reaction in system.reactions]\n",
    "            }\n",
    "        return result"
   ]
  },
  {
   "cell_type": "code",
   "execution_count": null,
   "metadata": {},
   "outputs": [],
   "source": [
    "saver = SaveSystemI()\n",
    "print(yaml.dump(saver.save(s)))"
   ]
  },
  {
   "cell_type": "markdown",
   "metadata": {},
   "source": [
    "## Reference counting"
   ]
  },
  {
   "cell_type": "markdown",
   "metadata": {},
   "source": [
    "The above approach of using a dictionary to determine the integer keys\n",
    "for objects is a bit clunky.\n",
    "\n",
    "Another good approach is to use counted objects either via a static member or by using a factory pattern:"
   ]
  },
  {
   "cell_type": "code",
   "execution_count": null,
   "metadata": {},
   "outputs": [],
   "source": [
    "class Element:\n",
    "    def __init__(self, symbol, id):\n",
    "        self.symbol = symbol\n",
    "        self.id = id\n",
    "    \n",
    "class Molecule:\n",
    "    def __init__(self, id):\n",
    "        self.elements= {} # Map from element to number of that element in the molecule\n",
    "        self.id=id\n",
    "        \n",
    "    def add_element(self, element, number):\n",
    "        self.elements[element] = number\n",
    "    \n",
    "    def to_struct(self):\n",
    "        return {x.symbol: self.elements[x] for x in self.elements}\n",
    "    \n",
    "class Reaction:\n",
    "    def __init__(self):\n",
    "        self.reactants = { } # Map from reactants to stoichiometries\n",
    "        self.products = { } # Map from products to stoichiometries\n",
    "        \n",
    "    def add_reactant(self, reactant, stoichiometry):\n",
    "        self.reactants[reactant] = stoichiometry\n",
    "        \n",
    "    def add_product(self, product, stoichiometry):\n",
    "        self.products[product] = stoichiometry\n",
    "        \n",
    "    def to_struct(self):\n",
    "        return {\n",
    "            'reactants' : [x.to_struct() for x in self.reactants],\n",
    "            'products' : [x.to_struct() for x in self.products],\n",
    "            'stoichiometries' : list(self.reactants.values())+\n",
    "                                list(self.products.values())\n",
    "        }\n",
    "     \n",
    "class System: # This will be our factory\n",
    "    def __init__(self):\n",
    "        self.reactions=[]\n",
    "        self.elements=[]\n",
    "        self.molecules=[]\n",
    "        \n",
    "    def add_element(self, symbol):\n",
    "        new_element = Element(symbol, len(self.elements))\n",
    "        self.elements.append(new_element)\n",
    "        return new_element\n",
    "    \n",
    "    def add_molecule(self):\n",
    "        new_molecule = Molecule(len(self.molecules))\n",
    "        self.molecules.append(new_molecule)\n",
    "        return new_molecule\n",
    "    \n",
    "    def add_reaction(self):\n",
    "        new_reaction=Reaction()\n",
    "        self.reactions.append(new_reaction)\n",
    "        return new_reaction\n",
    "\n",
    "    def save(self):\n",
    "                    \n",
    "        result = {\n",
    "            'elements' : [element.symbol\n",
    "                          for element in self.elements],\n",
    "            'molecules' : {\n",
    "                molecule.id:\n",
    "                    {element.id: number\n",
    "                          for element, number\n",
    "                          in molecule.elements.items()}\n",
    "                    for molecule in self.molecules},\n",
    "            'reactions' : [{\n",
    "                'reactants' : {\n",
    "                        reactant.id : stoich\n",
    "                        for reactant, stoich\n",
    "                        in reaction.reactants.items()\n",
    "                },\n",
    "                'products' : {\n",
    "                    product.id : stoich\n",
    "                        for product, stoich\n",
    "                        in reaction.products.items()\n",
    "                    \n",
    "                }}\n",
    "                for reaction in self.reactions]\n",
    "            }\n",
    "\n",
    "        \n",
    "        return result"
   ]
  },
  {
   "cell_type": "code",
   "execution_count": null,
   "metadata": {},
   "outputs": [],
   "source": [
    "s2=System()\n",
    "\n",
    "c=s2.add_element(\"C\")\n",
    "o=s2.add_element(\"O\")\n",
    "h=s2.add_element(\"H\")\n",
    "\n",
    "co2 = s2.add_molecule()\n",
    "co2.add_element(c,1)\n",
    "co2.add_element(o,2)\n",
    "\n",
    "h2o = s2.add_molecule()\n",
    "h2o.add_element(h,2)\n",
    "h2o.add_element(o,1)\n",
    "\n",
    "o2 = s2.add_molecule()\n",
    "o2.add_element(o,2)\n",
    "\n",
    "h2 = s2.add_molecule()\n",
    "h2.add_element(h,2)\n",
    "\n",
    "glucose = s2.add_molecule()\n",
    "glucose.add_element(c,6)\n",
    "glucose.add_element(h,12)\n",
    "glucose.add_element(o,6)\n",
    "\n",
    "combustion_glucose = s2.add_reaction()\n",
    "combustion_glucose.add_reactant(glucose,  1)\n",
    "combustion_glucose.add_reactant(o2, 6)\n",
    "combustion_glucose.add_product(co2, 6)\n",
    "combustion_glucose.add_product(h2o, 6)"
   ]
  },
  {
   "cell_type": "code",
   "execution_count": null,
   "metadata": {},
   "outputs": [],
   "source": [
    "combustion_hydrogen = s2.add_reaction()\n",
    "combustion_hydrogen.add_reactant(h2,2)\n",
    "combustion_hydrogen.add_reactant(o2,1)\n",
    "combustion_hydrogen.add_product(h2o,2)"
   ]
  },
  {
   "cell_type": "code",
   "execution_count": null,
   "metadata": {},
   "outputs": [],
   "source": [
    "s2.save()"
   ]
  },
  {
   "cell_type": "markdown",
   "metadata": {},
   "source": [
    "## Binary file formats"
   ]
  },
  {
   "cell_type": "markdown",
   "metadata": {},
   "source": [
    "Now we're getting toward a numerically-based data structure, using\n",
    "integers for object keys, we should think about binary serialisation.\n",
    "\n",
    "Binary file formats are much smaller than human-readable text based formats,\n",
    "so important when handling really big datasets.\n",
    "\n",
    "One can compress a textual file format, of course, and with good compression algorithms this will be similar in size to the binary file. (C.f. discussions of Shannon information density!) However,\n",
    "this has performance implications.\n",
    "\n",
    "A hand-designed binary format is fast and small, at the loss of human readability."
   ]
  },
  {
   "cell_type": "markdown",
   "metadata": {},
   "source": [
    "The problem with binary file formats, is that, lacking complex data structures, one needs to supply the *length* of an item before that item:"
   ]
  },
  {
   "cell_type": "code",
   "execution_count": null,
   "metadata": {},
   "outputs": [],
   "source": [
    "class FakeSaveBinary: # Pretend binary-style writing to a list\n",
    "    # to make it easier to read at first.    \n",
    "    def save(self, system, buffer):\n",
    "        buffer.append(len(system.elements))\n",
    "        for element in system.elements:\n",
    "            buffer.append(element.symbol)\n",
    "        \n",
    "        buffer.append(len(system.molecules))\n",
    "        for molecule in system.molecules:\n",
    "            buffer.append(len(molecule.elements))\n",
    "            for element, number in molecule.elements.items():\n",
    "                buffer.append(element.id)\n",
    "                buffer.append(number)\n",
    "        \n",
    "        buffer.append(len(system.reactions))\n",
    "        for reaction in system.reactions:\n",
    "            buffer.append(len(reaction.reactants))\n",
    "            for reactant, stoich in reaction.reactants.items():\n",
    "                buffer.append(reactant.id)\n",
    "                buffer.append(stoich)\n",
    "            buffer.append(len(reaction.products))\n",
    "            for product, stoich in reaction.products.items():\n",
    "                buffer.append(product.id)\n",
    "                buffer.append(stoich)"
   ]
  },
  {
   "cell_type": "code",
   "execution_count": null,
   "metadata": {},
   "outputs": [],
   "source": [
    "import io\n",
    "arraybuffer = []\n",
    "FakeSaveBinary().save(s2, arraybuffer)"
   ]
  },
  {
   "cell_type": "code",
   "execution_count": null,
   "metadata": {},
   "outputs": [],
   "source": [
    "arraybuffer"
   ]
  },
  {
   "cell_type": "markdown",
   "metadata": {},
   "source": [
    "Deserialisation is left as an exercise for the reader."
   ]
  },
  {
   "cell_type": "markdown",
   "metadata": {},
   "source": [
    "## Endian-robust binary file formats"
   ]
  },
  {
   "cell_type": "markdown",
   "metadata": {},
   "source": [
    "Having prepared our data as a sequence of data which can be recorded in a single byte,\n",
    "we might think a binary file format on disk is as simple as saving\n",
    "each number in one byte:"
   ]
  },
  {
   "cell_type": "code",
   "execution_count": null,
   "metadata": {},
   "outputs": [],
   "source": [
    "# First, turn symbol characters to equivalent integers (ascii)\n",
    "intarray = [x.encode('ascii')[0] if type(x)==str else x for x in arraybuffer]"
   ]
  },
  {
   "cell_type": "code",
   "execution_count": null,
   "metadata": {},
   "outputs": [],
   "source": [
    "bytearray(intarray)"
   ]
  },
  {
   "cell_type": "code",
   "execution_count": null,
   "metadata": {},
   "outputs": [],
   "source": [
    "with open('system.mol','bw') as binfile:\n",
    "    binfile.write(bytearray(intarray))"
   ]
  },
  {
   "cell_type": "markdown",
   "metadata": {},
   "source": [
    "However, this misses out on an unfortunate problem if we end up with large enough numbers to need more than one byte per integer, or we want to represent floats: different computer designs but the most-significant bytes of a multi-byte integer or float at the beginning or\n",
    "end ('big endian' or 'little endian' data)."
   ]
  },
  {
   "cell_type": "markdown",
   "metadata": {},
   "source": [
    "To get around this, we need to use a portable standard for making binary files."
   ]
  },
  {
   "cell_type": "markdown",
   "metadata": {},
   "source": [
    "One choice is **XDR**:"
   ]
  },
  {
   "cell_type": "code",
   "execution_count": null,
   "metadata": {},
   "outputs": [],
   "source": [
    "class XDRSavingSystem(System):\n",
    "    \n",
    "    def __init__(self, system):\n",
    "        # Shallow Copy constructor\n",
    "        self.elements = system.elements\n",
    "        self.reactions = system.reactions\n",
    "        self.molecules = system.molecules\n",
    "        \n",
    "    def save(self):\n",
    "                 \n",
    "        import xdrlib\n",
    "        \n",
    "        buffer = xdrlib.Packer()\n",
    "        \n",
    "        el_symbols = list(map(lambda x: x.symbol.encode('utf-8'), \n",
    "                                   self.elements))\n",
    "        buffer.pack_array(el_symbols,\n",
    "                          buffer.pack_string)\n",
    "        #AUTOMATICALLY packs the length of the array first!\n",
    "\n",
    "        def _pack_pair(item):\n",
    "             buffer.pack_int(item[0].id)\n",
    "             buffer.pack_int(item[1])\n",
    "        \n",
    "        def _pack_molecule(mol):\n",
    "            buffer.pack_array(mol.elements.items(), \n",
    "                              _pack_pair)\n",
    "        \n",
    "        buffer.pack_array(self.molecules, _pack_molecule)\n",
    "        \n",
    "        def _pack_reaction(reaction):\n",
    "            buffer.pack_array(reaction.reactants.items(),\n",
    "                            _pack_pair)\n",
    "            buffer.pack_array(reaction.products.items(),\n",
    "                             _pack_pair)\n",
    "        \n",
    "        buffer.pack_array(self.reactions, _pack_reaction)\n",
    "        return buffer"
   ]
  },
  {
   "cell_type": "code",
   "execution_count": null,
   "metadata": {},
   "outputs": [],
   "source": [
    "xdrsys = XDRSavingSystem(s2)"
   ]
  },
  {
   "cell_type": "code",
   "execution_count": null,
   "metadata": {},
   "outputs": [],
   "source": [
    "xdrbuff = xdrsys.save()\n",
    "xdrbuff.get_buffer()"
   ]
  },
  {
   "cell_type": "markdown",
   "metadata": {},
   "source": [
    "## A higher level approach to binary file formats: HDF5"
   ]
  },
  {
   "cell_type": "markdown",
   "metadata": {},
   "source": [
    "This was quite painful. We've shown you it because it is very likely\n",
    "you will encounter this kind of unpleasant binary file format in your work."
   ]
  },
  {
   "cell_type": "markdown",
   "metadata": {},
   "source": [
    "However, the recommended approach to building binary file formats is to use HDF5, a much higher level binary file format."
   ]
  },
  {
   "cell_type": "markdown",
   "metadata": {},
   "source": [
    "HDF5's approach requires you to represent your system in terms of high-dimensional matrices, like NumPy arrays.\n",
    "It then saves these, and handles all the tedious number-of-field management for you."
   ]
  },
  {
   "cell_type": "code",
   "execution_count": null,
   "metadata": {},
   "outputs": [],
   "source": [
    "import numpy as np\n",
    "\n",
    "class HDF5SavingSystem(System):\n",
    "    def __init__(self, system):\n",
    "        # Shallow Copy constructor\n",
    "        self.elements = system.elements\n",
    "        self.reactions = system.reactions\n",
    "        self.molecules = system.molecules\n",
    "        \n",
    "    def element_symbols(self):\n",
    "        return list(map(lambda x: x.symbol.encode('ascii'), \n",
    "                                   self.elements))\n",
    "    \n",
    "    def molecule_matrix(self):\n",
    "        molecule_matrix = np.zeros((len(self.elements), \n",
    "                                    len(self.molecules)),dtype=int)\n",
    "        \n",
    "        for molecule in self.molecules:\n",
    "            for element, n in molecule.elements.items():\n",
    "                molecule_matrix[element.id,\n",
    "                            molecule.id]=n\n",
    "            \n",
    "        return molecule_matrix\n",
    "    \n",
    "    def reaction_matrix(self):\n",
    "        reaction_matrix = np.zeros((len(self.molecules), \n",
    "                                    len(self.reactions)),dtype=int)\n",
    "        \n",
    "        for i, reaction in enumerate(self.reactions):\n",
    "            for reactant,n in reaction.reactants.items():\n",
    "                reaction_matrix[reactant.id,i]=-1*n\n",
    "            \n",
    "            for product, n in reaction.products.items():\n",
    "                reaction_matrix[product.id,i]=n\n",
    "    \n",
    "        return reaction_matrix\n",
    "    \n",
    "    def write(self, filename):\n",
    "        import h5py\n",
    "        hdf = h5py.File(filename,'w')\n",
    "        string_type = h5py.special_dtype(vlen=bytes)\n",
    "        hdf.create_dataset('symbols', (len(self.elements),1),\n",
    "                           string_type, self.element_symbols())\n",
    "        hdf.create_dataset('molecules', data=self.molecule_matrix())\n",
    "        hdf.create_dataset('reactions', data=self.reaction_matrix())\n",
    "        hdf.close()"
   ]
  },
  {
   "cell_type": "code",
   "execution_count": null,
   "metadata": {},
   "outputs": [],
   "source": [
    "saver=HDF5SavingSystem(s2)"
   ]
  },
  {
   "cell_type": "code",
   "execution_count": null,
   "metadata": {},
   "outputs": [],
   "source": [
    "saver.element_symbols()"
   ]
  },
  {
   "cell_type": "code",
   "execution_count": null,
   "metadata": {},
   "outputs": [],
   "source": [
    "saver.molecule_matrix()"
   ]
  },
  {
   "cell_type": "code",
   "execution_count": null,
   "metadata": {},
   "outputs": [],
   "source": [
    "saver.reaction_matrix()"
   ]
  },
  {
   "cell_type": "code",
   "execution_count": null,
   "metadata": {},
   "outputs": [],
   "source": [
    "saver.write('foo.hdf5')"
   ]
  },
  {
   "cell_type": "code",
   "execution_count": null,
   "metadata": {},
   "outputs": [],
   "source": [
    "import h5py\n",
    "hdf_load=h5py.File('foo.hdf5')"
   ]
  },
  {
   "cell_type": "code",
   "execution_count": null,
   "metadata": {},
   "outputs": [],
   "source": [
    "np.array(hdf_load['reactions'])"
   ]
  },
  {
   "cell_type": "markdown",
   "metadata": {},
   "source": [
    "Using a `sparse matrix` storage would be even better here, but we don't have time for that!"
   ]
  },
  {
   "cell_type": "code",
   "execution_count": null,
   "metadata": {},
   "outputs": [],
   "source": []
  }
 ],
 "metadata": {
  "kernelspec": {
   "display_name": "Python 3",
   "language": "python",
   "name": "python3"
  },
  "language_info": {
   "codemirror_mode": {
    "name": "ipython",
    "version": 3
   },
   "file_extension": ".py",
   "mimetype": "text/x-python",
   "name": "python",
   "nbconvert_exporter": "python",
   "pygments_lexer": "ipython3",
   "version": "3.6.3"
  }
 },
 "nbformat": 4,
 "nbformat_minor": 2
}
